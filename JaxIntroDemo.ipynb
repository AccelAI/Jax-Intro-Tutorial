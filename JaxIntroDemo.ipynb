{
  "nbformat": 4,
  "nbformat_minor": 0,
  "metadata": {
    "colab": {
      "name": "JaxIntroDemo.ipynb",
      "provenance": [],
      "authorship_tag": "ABX9TyPy58btWe1exwtQFA3psg3t",
      "include_colab_link": true
    },
    "kernelspec": {
      "name": "python3",
      "display_name": "Python 3"
    },
    "language_info": {
      "name": "python"
    }
  },
  "cells": [
    {
      "cell_type": "markdown",
      "metadata": {
        "id": "view-in-github",
        "colab_type": "text"
      },
      "source": [
        "<a href=\"https://colab.research.google.com/github/AccelAI/Jax-Intro-Tutorial/blob/main/JaxIntroDemo.ipynb\" target=\"_parent\"><img src=\"https://colab.research.google.com/assets/colab-badge.svg\" alt=\"Open In Colab\"/></a>"
      ]
    },
    {
      "cell_type": "markdown",
      "metadata": {
        "id": "JnEqaVJunujj"
      },
      "source": [
        "The first thing we need to do is make sure that we have all the packages that we need. If you are installing on your own machine, make sure you are running python 3 and then you can install anaconda for everything we need and more or each of the following individually. "
      ]
    },
    {
      "cell_type": "code",
      "metadata": {
        "id": "AGiHf5ktnACr"
      },
      "source": [
        "import sys\n",
        "!{sys.executable} -m pip install numpy\n",
        "!{sys.executable} -m pip install torch\n",
        "!{sys.executable} -m pip install jax\n",
        "!{sys.executable} -m pip install jaxlib\n",
        "!{sys.executable} -m pip install tensorflow"
      ],
      "execution_count": null,
      "outputs": []
    },
    {
      "cell_type": "code",
      "metadata": {
        "id": "d3SO6jnxseyT"
      },
      "source": [
        "import jax\n"
      ],
      "execution_count": null,
      "outputs": []
    }
  ]
}